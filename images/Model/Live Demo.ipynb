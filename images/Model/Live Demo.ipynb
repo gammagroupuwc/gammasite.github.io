{
 "cells": [
  {
   "cell_type": "code",
   "execution_count": 13,
   "metadata": {},
   "outputs": [],
   "source": [
    "import os\n",
    "import matplotlib\n",
    "import matplotlib.pyplot as plt\n",
    "import numpy as np\n",
    "import cv2\n",
    "import time\n",
    "from tensorflow.keras.models import Model, load_model\n",
    "import pyttsx3 \n",
    "from PIL import Image\n",
    "import random\n",
    "import datetime"
   ]
  },
  {
   "cell_type": "code",
   "execution_count": 14,
   "metadata": {},
   "outputs": [],
   "source": [
    "#model1_path = \"C:\\\\Users\\\\lwand\\\\OneDrive\\\\Desktop\\\\Assignments\\\\Measuring-Size-of-Objects-with-OpenCV-master\\\\ShoeNet.h5\"\n",
    "model1 = load_model(\"Shoes.h5\")"
   ]
  },
  {
   "cell_type": "code",
   "execution_count": null,
   "metadata": {},
   "outputs": [],
   "source": [
    "## Reading Video f"
   ]
  },
  {
   "cell_type": "code",
   "execution_count": null,
   "metadata": {},
   "outputs": [],
   "source": [
    "cap = cv2.VideoCapture('C:\\\\Users\\\\lwand\\\\Downloads\\\\store_vid.mp4')\n",
    "classes=[\"boot\", \"casual\",\"high heel\",\"male formal\",\"no shoe\",\"sneaker\"]\n",
    "\n",
    "while(cap.isOpened()):\n",
    "    ret, frame = cap.read()\n",
    "    im = Image.fromarray(frame, 'RGB')\n",
    "    gray = cv2.cvtColor(frame, cv2.COLOR_BGR2GRAY)\n",
    "    \n",
    "    im = im.resize((256,256))\n",
    "    img_array = np.array(im)\n",
    "    \n",
    "    #Our keras model used a 4D tensor, (images x height x width x channel)\n",
    "    #So changing dimension 128x128x3 into 1x128x128x3 \n",
    "    img_array = np.expand_dims(img_array, axis=0)\n",
    "        \n",
    "    #Calling the predict method on model to predict 'me' on the image\n",
    "    prediction = model1.predict(img_array)\n",
    "    num = np.argmax(prediction,axis =1)\n",
    "    print(prediction) #dont have to print this\n",
    "    print(num) #dont have to print this\n",
    "    predictions = [random.randrange(0,5) for i in range(0,127)]\n",
    "\n",
    "    cv2.putText(frame, classes[int(num[0])], (350, 50), cv2.FONT_HERSHEY_SIMPLEX, 0.7, (0,255,0),2,1)\n",
    "    cv2.imshow('frame',frame)\n",
    "    if cv2.waitKey(1) & 0xFF == ord('q'):\n",
    "        break\n",
    "\n",
    "cap.release()\n",
    "cv2.destroyAllWindows()"
   ]
  },
  {
   "cell_type": "markdown",
   "metadata": {},
   "source": [
    "## Live prediction"
   ]
  },
  {
   "cell_type": "code",
   "execution_count": null,
   "metadata": {
    "scrolled": false
   },
   "outputs": [],
   "source": [
    "\n",
    "video = cv2.VideoCapture(0)\n",
    "classes=[\"boot\", \"sneaker\",\"high heel\",\"male formal\",\"non shoe\"]\n",
    "\n",
    "while True:\n",
    "        _, frame = video.read()\n",
    "\n",
    "        #Convert the captured frame into RGB\n",
    "        im = Image.fromarray(frame, 'RGB')\n",
    "\n",
    "        #Resizing into 256x256 because we trained the model with this image size.\n",
    "        im = im.resize((256,256))\n",
    "        img_array = np.array(im)\n",
    "    \n",
    "        #Our keras model used a 4D tensor, (images x height x width x channel)\n",
    "        #So changing dimension 128x128x3 into 1x128x128x3 \n",
    "        img_array = np.expand_dims(img_array, axis=0)\n",
    "        \n",
    "        #Calling the predict method on model to predict 'me' on the image\n",
    "        prediction = model1.predict(img_array)\n",
    "        num = np.argmax(prediction,axis =1)\n",
    "        print(prediction) #dont have to print this\n",
    "        print(num) #dont have to print this\n",
    "        \n",
    "        #if(num!=4 or np.argmax(prediction,axis =0).any()>0.55): #if no shoe, do not show anything to screen\n",
    "        cv2.putText(frame, classes[int(num[0])], (350, 50), cv2.FONT_HERSHEY_SIMPLEX, 0.7, (0,255,0),2,1)\n",
    "\n",
    "        cv2.imshow(\"Capturing\", frame)\n",
    "        key=cv2.waitKey(1)\n",
    "        if key == ord('q'):\n",
    "                break\n",
    "video.release()\n",
    "cv2.destroyAllWindows()"
   ]
  },
  {
   "cell_type": "code",
   "execution_count": null,
   "metadata": {},
   "outputs": [],
   "source": []
  },
  {
   "cell_type": "markdown",
   "metadata": {},
   "source": [
    "### Writing results to csv file"
   ]
  },
  {
   "cell_type": "code",
   "execution_count": null,
   "metadata": {},
   "outputs": [],
   "source": []
  },
  {
   "cell_type": "code",
   "execution_count": null,
   "metadata": {},
   "outputs": [],
   "source": [
    "from random import randrange\n",
    "import datetime \n",
    "date_list = []\n",
    "\n",
    "def random_date(start,l):\n",
    "   current = start\n",
    "   while l >= 0:\n",
    "      curr = current + datetime.timedelta(minutes=randrange(60))\n",
    "      yield curr\n",
    "      l-=1\n",
    "\n",
    "\n",
    "\n",
    "startDate = datetime.datetime(2020, 8, 7,10,36)\n",
    "\n",
    "for date in random_date(startDate,127):\n",
    "     date_list.append(date.strftime(\"%Y-%m-%d %H:%M:%S.%f\"))\n",
    "   "
   ]
  },
  {
   "cell_type": "code",
   "execution_count": null,
   "metadata": {},
   "outputs": [],
   "source": [
    "date_list"
   ]
  },
  {
   "cell_type": "code",
   "execution_count": null,
   "metadata": {},
   "outputs": [],
   "source": [
    "import pandas as pd\n",
    "import numpy as np\n",
    "\n",
    "shoe_type = []\n",
    "datetime = []\n",
    "branchcode = []\n",
    "\n",
    "for pred in predictions:\n",
    "    shoe_type.append(classes[pred])\n",
    "    #datetime.append()\n",
    "    branchcode.append(9109)\n",
    "\n",
    "df = pd.DataFrame(data=np.array(shoe_type), columns=['Shoe Type'])\n",
    "df[\"Time Stamp\"] = np.array(date_list)\n",
    "df[\"Branch Code\"] = np.array(branchcode)\n",
    "\n",
    "df"
   ]
  },
  {
   "cell_type": "code",
   "execution_count": null,
   "metadata": {},
   "outputs": [],
   "source": [
    "df.to_csv('Shoe Data.csv', index=False,)"
   ]
  },
  {
   "cell_type": "code",
   "execution_count": null,
   "metadata": {},
   "outputs": [],
   "source": []
  }
 ],
 "metadata": {
  "kernelspec": {
   "display_name": "Python 3",
   "language": "python",
   "name": "python3"
  },
  "language_info": {
   "codemirror_mode": {
    "name": "ipython",
    "version": 3
   },
   "file_extension": ".py",
   "mimetype": "text/x-python",
   "name": "python",
   "nbconvert_exporter": "python",
   "pygments_lexer": "ipython3",
   "version": "3.7.7"
  }
 },
 "nbformat": 4,
 "nbformat_minor": 4
}
